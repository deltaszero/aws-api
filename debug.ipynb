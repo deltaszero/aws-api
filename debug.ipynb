{
 "cells": [
  {
   "cell_type": "code",
   "execution_count": 6,
   "metadata": {},
   "outputs": [
    {
     "data": {
      "text/plain": [
       "'Em física, o termo \"Black Mamba\" não tem um significado específico. No entanto, fora do campo da física, a expressão \"Black Mamba\" é mais conhecida como o nome de uma espécie de cobra venenosa africana muito perigosa. Ela destaca-se por sua agilidade, velocidade e toxicidade.\\n\\nSe precisar de mais informações ou tiver alguma dúvida em física, estou aqui para ajudar!'"
      ]
     },
     "execution_count": 6,
     "metadata": {},
     "output_type": "execute_result"
    }
   ],
   "source": [
    "import os\n",
    "from openai import OpenAI\n",
    "from dotenv import load_dotenv\n",
    "\n",
    "load_dotenv()\n",
    "\n",
    "def gpt_response(text):\n",
    "    try:\n",
    "        client = OpenAI(\n",
    "            api_key=os.getenv(\"OPENAI_API_KEY\"),\n",
    "        )\n",
    "        chat_completion = client.chat.completions.create(\n",
    "            model=\"gpt-3.5-turbo\",\n",
    "            messages=[\n",
    "                {\"role\": \"system\", \"content\": \"You are a physicist assistant, skilled in explain complex concepts about many subjects.\"},\n",
    "                {\"role\": \"user\", \"content\": text},\n",
    "            ]\n",
    "        )\n",
    "        return chat_completion.choices[0].message.content\n",
    "    except Exception as e:\n",
    "        print(f\"An Error Occurred: {str(e)} @ gpt_response\")\n",
    "        return \"An Error Occurred\"\n",
    "\n",
    "gpt_response(\"Quem foi black mamba?\")"
   ]
  },
  {
   "cell_type": "markdown",
   "metadata": {},
   "source": [
    "."
   ]
  }
 ],
 "metadata": {
  "kernelspec": {
   "display_name": "env_whatsapp_api",
   "language": "python",
   "name": "python3"
  },
  "language_info": {
   "codemirror_mode": {
    "name": "ipython",
    "version": 3
   },
   "file_extension": ".py",
   "mimetype": "text/x-python",
   "name": "python",
   "nbconvert_exporter": "python",
   "pygments_lexer": "ipython3",
   "version": "3.10.12"
  }
 },
 "nbformat": 4,
 "nbformat_minor": 2
}
